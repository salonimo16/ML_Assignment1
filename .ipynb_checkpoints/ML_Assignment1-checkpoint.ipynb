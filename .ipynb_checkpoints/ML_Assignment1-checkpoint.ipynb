{
 "cells": [
  {
   "cell_type": "code",
   "execution_count": 1,
   "metadata": {},
   "outputs": [],
   "source": [
    "# importing relevant libraries\n",
    "import os\n",
    "import pandas as pd\n",
    "import numpy as np"
   ]
  },
  {
   "cell_type": "code",
   "execution_count": 2,
   "metadata": {},
   "outputs": [],
   "source": [
    "# Q1a Construct a dataframe called background_info\n",
    "data = ['sm4632', 'Saloni', 'Mohan', 'Saloni', 'M.S.', 'Electronics & Communications Engineer', '2011', 'JIIT Noida, India', 4, 5, 3, 5, 4, 'Cooking', 'How to win friends and influence people', 'Frank Sinatra', 'Pulp Fiction', 'Google','Dos Caminos']\n",
    "col_names = [\"UNI\", \"first_name\", \"last_name\", \"preferred_name\", \"highest_degree\", \"undergrad_major\",\n",
    "\"graduation_year\", \"alma_mater\", \"calculus_level\", \"linear_algebra_level\", \"probability_level\",\n",
    "\"regression_level\",\"python_level\", \"fave_hobby\", \"fave_book\", \"fave_musician\", \"fave_movie\",\n",
    "\"fave_brand\", \"fave_nyc_restaurant\"]\n",
    "\n",
    "background_info = pd.DataFrame(data, col_names)\n"
   ]
  },
  {
   "cell_type": "code",
   "execution_count": null,
   "metadata": {},
   "outputs": [],
   "source": []
  }
 ],
 "metadata": {
  "kernelspec": {
   "display_name": "Python 3",
   "language": "python",
   "name": "python3"
  },
  "language_info": {
   "codemirror_mode": {
    "name": "ipython",
    "version": 3
   },
   "file_extension": ".py",
   "mimetype": "text/x-python",
   "name": "python",
   "nbconvert_exporter": "python",
   "pygments_lexer": "ipython3",
   "version": "3.7.3"
  }
 },
 "nbformat": 4,
 "nbformat_minor": 2
}
